{
 "cells": [
  {
   "cell_type": "markdown",
   "id": "5c055d4e",
   "metadata": {},
   "source": [
    "# data Science Tools and Ecosystem"
   ]
  },
  {
   "cell_type": "markdown",
   "id": "8010511a",
   "metadata": {},
   "source": [
    "# In this notebook, Data Science Tools and Ecosystem are summarized."
   ]
  },
  {
   "cell_type": "markdown",
   "id": "4448b8bc",
   "metadata": {},
   "source": [
    "# Some of the popular language the Data Scientist use are:\n",
    "\n",
    "1. Pyhton\n",
    "2. Julia\n",
    "3. R"
   ]
  },
  {
   "cell_type": "markdown",
   "id": "dfc99132",
   "metadata": {},
   "source": [
    "# Some of the commonly used libraries used by Data Scientists include:\n",
    "1. Numpy\n",
    "2. Pandas\n",
    "3. Scikit-learn\n"
   ]
  },
  {
   "cell_type": "markdown",
   "id": "1b8ae751",
   "metadata": {},
   "source": [
    "# Table of Data Science tools\n",
    "| Data Science tools |\n",
    "| ------------------ |\n",
    "| Jupyter Notebook |\n",
    "| RStudio |\n",
    "| Visual Studio Code |"
   ]
  },
  {
   "cell_type": "markdown",
   "id": "17175cef",
   "metadata": {},
   "source": [
    "# Introducing arithmetic expression examples\n",
    "### Below are a few examples of evaluating arithmetic expressions in Python\n"
   ]
  },
  {
   "cell_type": "code",
   "execution_count": 2,
   "id": "7ebde815",
   "metadata": {},
   "outputs": [
    {
     "data": {
      "text/plain": [
       "17"
      ]
     },
     "execution_count": 2,
     "metadata": {},
     "output_type": "execute_result"
    }
   ],
   "source": [
    "# This a simple arithmetic expression to mutiply then add integers\n",
    "(3*4)+5"
   ]
  },
  {
   "cell_type": "code",
   "execution_count": 9,
   "id": "b80569fe",
   "metadata": {},
   "outputs": [
    {
     "name": "stdout",
     "output_type": "stream",
     "text": [
      "3.3333333333333335\n"
     ]
    }
   ],
   "source": [
    "# This will convert 200 minutes to hours by diving by 60\n",
    "minutes = 200\n",
    "hours = minutes/ 60\n",
    "print(hours)"
   ]
  },
  {
   "cell_type": "markdown",
   "id": "2886037b",
   "metadata": {},
   "source": [
    "# List the objectives that this notebook covered (i.e. some of the key takeaways from the course).\n",
    "**Objectives:**\n",
    "\n",
    "- the popular languages Data Scientists use in Python.\n",
    "- Some of the commonly used libraries used by Data Scientist.\n",
    "- Data Science Tools.\n",
    "- Discuss the conversion of minutes to hours using Python expressions.\n"
   ]
  },
  {
   "cell_type": "markdown",
   "id": "a8141231",
   "metadata": {},
   "source": [
    "## Author\n",
    "\n",
    "Prakhyat Gautam"
   ]
  },
  {
   "cell_type": "code",
   "execution_count": null,
   "id": "e4b4a3f3",
   "metadata": {},
   "outputs": [],
   "source": []
  }
 ],
 "metadata": {
  "kernelspec": {
   "display_name": "Python 3 (ipykernel)",
   "language": "python",
   "name": "python3"
  },
  "language_info": {
   "codemirror_mode": {
    "name": "ipython",
    "version": 3
   },
   "file_extension": ".py",
   "mimetype": "text/x-python",
   "name": "python",
   "nbconvert_exporter": "python",
   "pygments_lexer": "ipython3",
   "version": "3.11.4"
  }
 },
 "nbformat": 4,
 "nbformat_minor": 5
}
